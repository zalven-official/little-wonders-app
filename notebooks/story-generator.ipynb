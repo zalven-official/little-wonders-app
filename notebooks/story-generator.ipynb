{
 "cells": [
  {
   "cell_type": "markdown",
   "metadata": {},
   "source": [
    "# Phil-IRI\n",
    "Prompt Engineering for Generating Stories and Questionnaires based on Phil Iri\n",
    "### The Philippine Informal Reading Inventory Assessment Tool \n",
    "- it is aimed to be used as a classroom-based assessment tool to measure and describe students' reading performance."
   ]
  },
  {
   "cell_type": "markdown",
   "metadata": {},
   "source": [
    "### PRE TEST (SILENT READING)"
   ]
  },
  {
   "cell_type": "markdown",
   "metadata": {},
   "source": [
    "### PRE TEST (ORAL READING)"
   ]
  },
  {
   "cell_type": "markdown",
   "metadata": {},
   "source": [
    "### POST TEST (SILENT READING)"
   ]
  },
  {
   "cell_type": "markdown",
   "metadata": {},
   "source": [
    "### POST TEST (ORAL READING)"
   ]
  }
 ],
 "metadata": {
  "kernelspec": {
   "display_name": "goteam",
   "language": "python",
   "name": "python3"
  },
  "language_info": {
   "codemirror_mode": {
    "name": "ipython",
    "version": 3
   },
   "file_extension": ".py",
   "mimetype": "text/x-python",
   "name": "python",
   "nbconvert_exporter": "python",
   "pygments_lexer": "ipython3",
   "version": "3.9.19"
  }
 },
 "nbformat": 4,
 "nbformat_minor": 2
}
