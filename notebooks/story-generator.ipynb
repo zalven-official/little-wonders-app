{
 "cells": [
  {
   "cell_type": "markdown",
   "metadata": {},
   "source": [
    "# Phil-IRI\n",
    "Prompt Engineering for Generating Stories and Questionnaires based on Phil Iri\n",
    "### The Philippine Informal Reading Inventory Assessment Tool \n",
    "- it is aimed to be used as a classroom-based assessment tool to measure and describe students' reading performance.\n",
    "\n",
    "Parameters\n",
    "- **Grade Level** (1, 2, 3, 4, 5, 6)\n",
    "- **Test Type** (Pre test, Post test, Story)\n",
    "- **Reading Mode** (Oral reading, Silent Reading)"
   ]
  },
  {
   "cell_type": "code",
   "execution_count": null,
   "metadata": {},
   "outputs": [],
   "source": []
  },
  {
   "cell_type": "code",
   "execution_count": 1,
   "metadata": {},
   "outputs": [],
   "source": [
    "from openai import OpenAI\n",
    "from IPython.display import display, Markdown, Image\n",
    "import re\n",
    "\n",
    "client = OpenAI()\n",
    "\n",
    "def split_numbers_with_dots(text):\n",
    "    pattern = r'\\b\\d+\\.\\b'\n",
    "    matches = re.findall(pattern, text)\n",
    "    result = '\\n'.join(matches)\n",
    "    return result\n",
    "\n",
    "def get_completion(prompt, model=\"gpt-3.5-turbo\"):\n",
    "  messages = [ {\"role\": \"user\",  \"content\": prompt}]\n",
    "  response  = client.chat.completions.create(\n",
    "    model=model,\n",
    "    messages=messages,\n",
    "    temperature=.3,\n",
    "  )\n",
    "\n",
    "  text = response.choices[0].message.content\n",
    "  return text\n",
    "\n",
    "def get_poster(prompt, model=\"dall-e-2\"):\n",
    "  response = client.images.generate(\n",
    "    model=model,\n",
    "    prompt=prompt,\n",
    "    size=\"256x256\",\n",
    "    quality=\"standard\",\n",
    "    n=1,\n",
    "  )\n",
    "\n",
    "  image_url = response.data[0].url\n",
    "  return image_url\n",
    "\n",
    "def diplay_markdown(text):\n",
    "  display(Markdown(text))\n",
    "  print('----------------------')\n",
    "\n",
    "def display_image(image_url):\n",
    "  display(Image(url=image_url))\n",
    "  print('----------------------')\n",
    "    "
   ]
  },
  {
   "cell_type": "code",
   "execution_count": 2,
   "metadata": {},
   "outputs": [
    {
     "data": {
      "text/plain": [
       "'Donald Trump is a businessman, television personality, and politician who served as the 45th President of the United States from 2017 to 2021. He is a member of the Republican Party and is known for his controversial statements and policies. Prior to his presidency, Trump was a real estate developer and reality TV star.'"
      ]
     },
     "execution_count": 2,
     "metadata": {},
     "output_type": "execute_result"
    }
   ],
   "source": [
    "get_completion(\"who is Donald Trump\")"
   ]
  },
  {
   "cell_type": "markdown",
   "metadata": {},
   "source": [
    "### PRE TEST (SILENT READING)"
   ]
  },
  {
   "cell_type": "code",
   "execution_count": 21,
   "metadata": {},
   "outputs": [
    {
     "data": {
      "text/markdown": [
       "OPLAN KALULUWA Annual Report\n",
       "\n",
       "Last year, the community of Barangay Masaya organized a special event called OPLAN KALULUWA to honor their departed loved ones. Families gathered at the local cemetery to clean and decorate the graves of their ancestors. It was a time for reflection and remembrance, as people shared stories and memories of those who had passed away.\n",
       "\n",
       "During the event, children lit candles and offered prayers for the souls of their departed relatives. They also participated in a lantern-making contest, where they showcased their creativity and artistic skills. The atmosphere was filled with love and respect for the deceased, showing how Filipinos cherish their family connections even beyond death.\n",
       "\n",
       "As the night fell, the cemetery was illuminated with colorful lanterns and candles, creating a peaceful and solemn ambiance. Families sat together, sharing food and laughter, celebrating the lives of those who had left but will always remain in their hearts.\n",
       "\n",
       "OPLAN KALULUWA was a beautiful tradition that reminded everyone of the importance of honoring and remembering their ancestors. It was a time to express gratitude for the love and guidance they had received, and to keep their memories alive in the hearts of the living."
      ],
      "text/plain": [
       "<IPython.core.display.Markdown object>"
      ]
     },
     "metadata": {},
     "output_type": "display_data"
    },
    {
     "name": "stdout",
     "output_type": "stream",
     "text": [
      "----------------------\n"
     ]
    },
    {
     "data": {
      "text/markdown": [
       "1. What is the name of the event organized by the community of Barangay Masaya?\n",
       "A. OPLAN KALULUWA\n",
       "B. Lantern-making contest\n",
       "C. Cemetery cleaning day\n",
       "D. Family gathering day\n",
       "\n",
       "2. What did families do during OPLAN KALULUWA?\n",
       "A. Clean and decorate the graves of their ancestors\n",
       "B. Play games and have fun\n",
       "C. Watch a movie together\n",
       "D. Go on a picnic\n",
       "\n",
       "3. What did children do during the event?\n",
       "A. Lit candles and offered prayers for their departed relatives\n",
       "B. Participated in a lantern-making contest\n",
       "C. Both A and B\n",
       "D. None of the above\n",
       "\n",
       "4. What was the atmosphere like during OPLAN KALULUWA?\n",
       "A. Filled with sadness and sorrow\n",
       "B. Filled with love and respect for the deceased\n",
       "C. Filled with noise and chaos\n",
       "D. Filled with anger and frustration\n",
       "\n",
       "5. How did families celebrate the lives of their departed loved ones?\n",
       "A. By sitting together and sharing food and laughter\n",
       "B. By going on a trip\n",
       "C. By ignoring their memories\n",
       "D. By forgetting about them\n",
       "\n",
       "6. What did OPLAN KALULUWA remind everyone of?\n",
       "A. The importance of honoring and remembering their ancestors\n",
       "B. The importance of forgetting about their ancestors\n",
       "C. The importance of not celebrating their ancestors\n",
       "D. None of the above"
      ],
      "text/plain": [
       "<IPython.core.display.Markdown object>"
      ]
     },
     "metadata": {},
     "output_type": "display_data"
    },
    {
     "name": "stdout",
     "output_type": "stream",
     "text": [
      "----------------------\n"
     ]
    },
    {
     "data": {
      "text/html": [
       "<img src=\"https://oaidalleapiprodscus.blob.core.windows.net/private/org-dZah61YOyjOwZcIDSD4QH39V/user-4Ohab3Iu3GGvAvMD6t8ukp7Q/img-P0ssoHiYYqFs6hAQ2Uxpnt9t.png?st=2024-07-20T11%3A43%3A30Z&se=2024-07-20T13%3A43%3A30Z&sp=r&sv=2023-11-03&sr=b&rscd=inline&rsct=image/png&skoid=6aaadede-4fb3-4698-a8f6-684d7786b067&sktid=a48cca56-e6da-484e-a814-9c849652bcb3&skt=2024-07-19T23%3A42%3A07Z&ske=2024-07-20T23%3A42%3A07Z&sks=b&skv=2023-11-03&sig=/pnbnGLRFL/LQ78Gr/d9GCmpqHghdKdvbQBHXWqjWg0%3D\"/>"
      ],
      "text/plain": [
       "<IPython.core.display.Image object>"
      ]
     },
     "metadata": {},
     "output_type": "display_data"
    },
    {
     "name": "stdout",
     "output_type": "stream",
     "text": [
      "----------------------\n"
     ]
    },
    {
     "data": {
      "text/plain": [
       "{'content': '\\n  Phil-IRI (The Philippine Informal Reading Inventory Assessment Tool)\\n  Grade 4 Pre-Test Silent Reading\\n  GRADE LEVEL PASSAGE RATING SHEET\\n  Title: OPLAN KALULUWA Annual Report\\n  Description: Filipinos cherish their family connections deeply, even after loved ones have passed away.\\n  ',\n",
       " 'reading_material': 'OPLAN KALULUWA Annual Report\\n\\nLast year, the community of Barangay Masaya organized a special event called OPLAN KALULUWA to honor their departed loved ones. Families gathered at the local cemetery to clean and decorate the graves of their ancestors. It was a time for reflection and remembrance, as people shared stories and memories of those who had passed away.\\n\\nDuring the event, children lit candles and offered prayers for the souls of their departed relatives. They also participated in a lantern-making contest, where they showcased their creativity and artistic skills. The atmosphere was filled with love and respect for the deceased, showing how Filipinos cherish their family connections even beyond death.\\n\\nAs the night fell, the cemetery was illuminated with colorful lanterns and candles, creating a peaceful and solemn ambiance. Families sat together, sharing food and laughter, celebrating the lives of those who had left but will always remain in their hearts.\\n\\nOPLAN KALULUWA was a beautiful tradition that reminded everyone of the importance of honoring and remembering their ancestors. It was a time to express gratitude for the love and guidance they had received, and to keep their memories alive in the hearts of the living.',\n",
       " 'questions': '1. What is the name of the event organized by the community of Barangay Masaya?\\nA. OPLAN KALULUWA\\nB. Lantern-making contest\\nC. Cemetery cleaning day\\nD. Family gathering day\\n\\n2. What did families do during OPLAN KALULUWA?\\nA. Clean and decorate the graves of their ancestors\\nB. Play games and have fun\\nC. Watch a movie together\\nD. Go on a picnic\\n\\n3. What did children do during the event?\\nA. Lit candles and offered prayers for their departed relatives\\nB. Participated in a lantern-making contest\\nC. Both A and B\\nD. None of the above\\n\\n4. What was the atmosphere like during OPLAN KALULUWA?\\nA. Filled with sadness and sorrow\\nB. Filled with love and respect for the deceased\\nC. Filled with noise and chaos\\nD. Filled with anger and frustration\\n\\n5. How did families celebrate the lives of their departed loved ones?\\nA. By sitting together and sharing food and laughter\\nB. By going on a trip\\nC. By ignoring their memories\\nD. By forgetting about them\\n\\n6. What did OPLAN KALULUWA remind everyone of?\\nA. The importance of honoring and remembering their ancestors\\nB. The importance of forgetting about their ancestors\\nC. The importance of not celebrating their ancestors\\nD. None of the above',\n",
       " 'poster': 'https://oaidalleapiprodscus.blob.core.windows.net/private/org-dZah61YOyjOwZcIDSD4QH39V/user-4Ohab3Iu3GGvAvMD6t8ukp7Q/img-P0ssoHiYYqFs6hAQ2Uxpnt9t.png?st=2024-07-20T11%3A43%3A30Z&se=2024-07-20T13%3A43%3A30Z&sp=r&sv=2023-11-03&sr=b&rscd=inline&rsct=image/png&skoid=6aaadede-4fb3-4698-a8f6-684d7786b067&sktid=a48cca56-e6da-484e-a814-9c849652bcb3&skt=2024-07-19T23%3A42%3A07Z&ske=2024-07-20T23%3A42%3A07Z&sks=b&skv=2023-11-03&sig=/pnbnGLRFL/LQ78Gr/d9GCmpqHghdKdvbQBHXWqjWg0%3D'}"
      ]
     },
     "execution_count": 21,
     "metadata": {},
     "output_type": "execute_result"
    }
   ],
   "source": [
    "def pre_test_silent(grade_level, test_type, reading_mode, reading_material_title, reading_material_description):\n",
    "  \n",
    "  # Reading Material Content ------------------------------------------\n",
    "  content = f\"\"\"\n",
    "  Phil-IRI (The Philippine Informal Reading Inventory Assessment Tool)\n",
    "  {grade_level} {test_type} {reading_mode}\n",
    "  GRADE LEVEL PASSAGE RATING SHEET\n",
    "  Title: {reading_material_title}\n",
    "  Description: {reading_material_description}\n",
    "  \"\"\"\n",
    "  \n",
    "  # Generate Reading Material ------------------------------------------\n",
    "  content_prompt_format = f\"\"\"\n",
    "  {content}\n",
    "  Create a reading material content based on the content above. Make sure the format is just like Phil-IRI reading materials that is appropriate for {grade_level} and for {test_type}, short and manageable reading materials.\n",
    "  Phil-IRI reading materials are structured to assess the reading abilities and comprehension skills of students in the Philippines.\n",
    "  Keep in mind that this only returns the content, not the description, title, or any placeholders. If there is a placeholder, just put any random input for it.\n",
    "  \"\"\"\n",
    "  generated_reading_material = get_completion(content_prompt_format)\n",
    "  diplay_markdown(generated_reading_material)\n",
    "  \n",
    "  \n",
    "  # Generate Questionnaire ------------------------------------------\n",
    "  questionnaire_prompt_format = f\"\"\"{content}\\n{generated_reading_material}\n",
    "  Create a questionnaire based on the content above. Make sure the format is just like Phil-IRI questionnaires that is appropriate for {grade_level} and for {test_type}, multiple choices.\n",
    "  Keep in mind that this only returns the content, not the description, title, or any placeholders. If there is a placeholder, just put any random input for it.\n",
    "  \"\"\"\n",
    "  questions = get_completion(questionnaire_prompt_format)\n",
    "  diplay_markdown(questions)\n",
    "  \n",
    "  # Generate Poster Image\n",
    "  poster_prompt_format = f\"\"\"Based on thse content create me a cartoonish or animated image based on the this \"{reading_material_title}\" and {reading_material_description}.\"\"\"\n",
    "  poster = get_poster(poster_prompt_format)\n",
    "  display_image(poster)\n",
    "\n",
    "  return { \n",
    "      \"content\": content,\n",
    "      \"reading_material\": generated_reading_material, \n",
    "      \"questions\": questions, \n",
    "      \"poster\": poster\n",
    "    }\n",
    "grade_level = \"Grade 4\"\n",
    "test_type = \"Pre-Test\"\n",
    "reading_mode = \"Silent Reading\"\n",
    "\n",
    "# Reading material Parameters ------------------------------------------\n",
    "reading_material_title = \"OPLAN KALULUWA Annual Report\"\n",
    "reading_material_description = \"Filipinos cherish their family connections deeply, even after loved ones have passed away.\"\n",
    "\n",
    "\n",
    "sample = pre_test_silent(grade_level, test_type, reading_mode, reading_material_title, reading_material_description)\n",
    "sample"
   ]
  },
  {
   "cell_type": "markdown",
   "metadata": {},
   "source": [
    "### PRE TEST (ORAL READING)"
   ]
  },
  {
   "cell_type": "code",
   "execution_count": 23,
   "metadata": {},
   "outputs": [
    {
     "data": {
      "text/markdown": [
       "Dear friends,\n",
       "\n",
       "You are cordially invited to a special celebration at my house this coming Saturday. We will be celebrating my grandparents' 50th wedding anniversary! It will be a joyous occasion filled with love, laughter, and memories.\n",
       "\n",
       "Please join us in honoring this milestone in my grandparents' lives. There will be delicious food, lively music, and lots of fun activities for everyone to enjoy. It would mean so much to me and my family to have you there with us on this special day.\n",
       "\n",
       "I hope you can make it to the party and help us celebrate this wonderful occasion. Please RSVP by Thursday so we can make sure to have enough food and drinks for everyone.\n",
       "\n",
       "Looking forward to seeing you there!\n",
       "\n",
       "Sincerely,\n",
       "[Your Name]"
      ],
      "text/plain": [
       "<IPython.core.display.Markdown object>"
      ]
     },
     "metadata": {},
     "output_type": "display_data"
    },
    {
     "name": "stdout",
     "output_type": "stream",
     "text": [
      "----------------------\n"
     ]
    },
    {
     "data": {
      "text/markdown": [
       "Question 1: What are we celebrating in the invitation letter?\n",
       "Answer: My grandparents' 50th wedding anniversary.\n",
       "\n",
       "Question 2: When is the celebration taking place?\n",
       "Answer: This coming Saturday.\n",
       "\n",
       "Question 3: What kind of activities will be at the celebration?\n",
       "Answer: There will be delicious food, lively music, and lots of fun activities for everyone to enjoy.\n",
       "\n",
       "Question 4: Why is it important to RSVP by Thursday?\n",
       "Answer: To make sure there is enough food and drinks for everyone.\n",
       "\n",
       "Question 5: Who is the invitation letter addressed to?\n",
       "Answer: Dear friends."
      ],
      "text/plain": [
       "<IPython.core.display.Markdown object>"
      ]
     },
     "metadata": {},
     "output_type": "display_data"
    },
    {
     "name": "stdout",
     "output_type": "stream",
     "text": [
      "----------------------\n"
     ]
    },
    {
     "data": {
      "text/markdown": [
       "1. What is the occasion being celebrated in the invitation letter?\n",
       "   Answer: The occasion being celebrated is the grandparents' 50th wedding anniversary.\n",
       "\n",
       "2. Why do you think the author describes the celebration as a joyous occasion filled with love, laughter, and memories?\n",
       "   Answer: The author wants to convey the happy and sentimental atmosphere of the event and emphasize the importance of celebrating the grandparents' milestone.\n",
       "\n",
       "3. Why is it important for the guests to RSVP by Thursday?\n",
       "   Answer: It is important for the guests to RSVP by Thursday so that the host can make sure to have enough food and drinks for everyone attending the party.\n",
       "\n",
       "4. How do you think the author feels about having friends attend the celebration?\n",
       "   Answer: The author feels excited and grateful to have friends attend the celebration, as indicated by the statement \"It would mean so much to me and my family to have you there with us on this special day.\"\n",
       "\n",
       "5. What do you think the author hopes the guests will take away from attending the party?\n",
       "   Answer: The author hopes the guests will take away happy memories, a sense of celebration, and a feeling of being part of a special occasion by attending the party."
      ],
      "text/plain": [
       "<IPython.core.display.Markdown object>"
      ]
     },
     "metadata": {},
     "output_type": "display_data"
    },
    {
     "name": "stdout",
     "output_type": "stream",
     "text": [
      "----------------------\n"
     ]
    },
    {
     "data": {
      "text/markdown": [
       "1. What is the occasion being celebrated in the invitation letter?\n",
       "   Answer: The occasion being celebrated is the grandparents' 50th wedding anniversary.\n",
       "\n",
       "2. Why is the celebration described as a joyous occasion filled with love, laughter, and memories?\n",
       "   Answer: The celebration is described as joyous because it is a special milestone in the grandparents' lives and a time to create happy memories with family and friends.\n",
       "\n",
       "3. Why is it important to RSVP by Thursday for the party?\n",
       "   Answer: It is important to RSVP by Thursday so the host can make sure to have enough food and drinks for everyone attending the party.\n",
       "\n",
       "4. What can guests expect at the party according to the invitation letter?\n",
       "   Answer: Guests can expect delicious food, lively music, and fun activities at the party.\n",
       "\n",
       "5. Why is it meaningful for the host to have friends join in celebrating the grandparents' wedding anniversary?\n",
       "   Answer: It is meaningful for the host to have friends join in celebrating the grandparents' wedding anniversary because it shows support and adds to the joyous atmosphere of the celebration."
      ],
      "text/plain": [
       "<IPython.core.display.Markdown object>"
      ]
     },
     "metadata": {},
     "output_type": "display_data"
    },
    {
     "name": "stdout",
     "output_type": "stream",
     "text": [
      "----------------------\n"
     ]
    },
    {
     "data": {
      "text/html": [
       "<img src=\"https://oaidalleapiprodscus.blob.core.windows.net/private/org-dZah61YOyjOwZcIDSD4QH39V/user-4Ohab3Iu3GGvAvMD6t8ukp7Q/img-hA0Vg4053aKnnSe4t5COc7RN.png?st=2024-07-20T11%3A44%3A38Z&se=2024-07-20T13%3A44%3A38Z&sp=r&sv=2023-11-03&sr=b&rscd=inline&rsct=image/png&skoid=6aaadede-4fb3-4698-a8f6-684d7786b067&sktid=a48cca56-e6da-484e-a814-9c849652bcb3&skt=2024-07-19T23%3A17%3A22Z&ske=2024-07-20T23%3A17%3A22Z&sks=b&skv=2023-11-03&sig=ZM9aTT7OfRa9Ea6xUfwe/IvxCWQSZSbfiy54isyjdW8%3D\"/>"
      ],
      "text/plain": [
       "<IPython.core.display.Image object>"
      ]
     },
     "metadata": {},
     "output_type": "display_data"
    },
    {
     "name": "stdout",
     "output_type": "stream",
     "text": [
      "----------------------\n"
     ]
    }
   ],
   "source": [
    "# This is fill in the blanks (Literal, Interpretive, Applied)\n",
    "def pre_test_oral(grade_level, test_type, reading_mode, reading_material_title, reading_material_description, prompt):\n",
    "  # Reading material Content ------------------------------------------\n",
    "  content = f\"\"\"\n",
    "  Phil-IRI (The Philippine Informal Reading Inventory Assessment Tool)\n",
    "  {grade_level} {test_type} {reading_mode}\n",
    "  GRADE LEVEL PASSAGE RATING SHEET\n",
    "  Title: {reading_material_title}\n",
    "  Description: {reading_material_description}\n",
    "  Prompt: {prompt}\n",
    "  \"\"\"\n",
    "\n",
    "  # Generate Reading Material ------------------------------------------\n",
    "  reading_material_prompt_format = f\"\"\"\n",
    "  {content}\n",
    "  Create a reading material based on the content above and prompt. Make sure the format is just like Phil-IRI, short and manageable reading material.\n",
    "  Phil-IRI stories are structured to assess the reading abilities and comprehension skills of students in the Philippines.\n",
    "  Keep in mind that this only returns the content, not the description, title, or any placeholders. If there is a placeholder, just put any random input for it.\n",
    "  That means names, date, subject, or place should be named depending on your choice.\n",
    "  \"\"\"\n",
    "  generated_reading_material = get_completion(reading_material_prompt_format)\n",
    "  diplay_markdown(generated_reading_material)\n",
    "  \n",
    "  \n",
    "  \n",
    "  def questionnare(question_type, question_description):\n",
    "    return f\"\"\"{content}\\n\n",
    "    content: {generated_reading_material}\n",
    "  \n",
    "    Create a questionnaire based on the content above, following the format of Phil-IRI questionnaires that is appropriate for {grade_level} and {test_type}.\n",
    "    the questionnaire should be {question_type} which {question_description}. Total Questions should be atleast 5 depending on the story.\n",
    "    Please provide an answer, or a different possible answer but connected to the content, or both for each question. Make each question simple to answer.\n",
    "    \"\"\"\n",
    "  # Generate Questionnaire Literal ------------------------------------------\n",
    "  literal_questions = get_completion(questionnare(\"Literal\", \"focus on basic facts and details\"))\n",
    "  diplay_markdown(literal_questions)\n",
    "  \n",
    "  # Generate Questionnaire Interpretive ------------------------------------------\n",
    "  interpretive_questions = get_completion(questionnare(\"Interpretive\", \"means questions delve deeper into the meaning and implications of the text.\"))\n",
    "  diplay_markdown(interpretive_questions)\n",
    "  \n",
    "  # Generate Questionnaire Applied ------------------------------------------\n",
    "  applied_questions = get_completion(questionnare(\"Applied\", \" means it require students to apply what they've read to new situations or context.\"))\n",
    "  diplay_markdown(applied_questions)\n",
    "\n",
    "  \n",
    "  poster_prompt_format = f\"\"\"Based on thse content create me a cartoonish or animated image based on the this \"{reading_material_title}\" and {reading_material_description}.\"\"\"\n",
    "  poster = get_poster(poster_prompt_format)\n",
    "  display_image(poster)\n",
    "  \n",
    "  return \n",
    "  \n",
    "grade_level = \"Grade 5\"\n",
    "test_type = \"Pre-Test\"\n",
    "reading_mode = \"Oral Reading\"\n",
    "\n",
    "# Reading Material Parameters -----------------------------------------\n",
    "reading_material_prompt = \"Have you ever tried inviting a friend to your party? Read this invitation letter. Find out what the occasion is.\"\n",
    "reading_material_title = \"An Invitation Letter\"\n",
    "reading_material_description = \"Invitation letter for grand parents wedding anniversary\"\n",
    "\n",
    "\n",
    "sample = pre_test_oral(grade_level, test_type, reading_mode, reading_material_title, reading_material_description, reading_material_prompt)\n",
    "sample\n"
   ]
  },
  {
   "cell_type": "markdown",
   "metadata": {},
   "source": [
    "### STORY (SILENT READING)"
   ]
  },
  {
   "cell_type": "code",
   "execution_count": null,
   "metadata": {},
   "outputs": [],
   "source": []
  },
  {
   "cell_type": "markdown",
   "metadata": {},
   "source": [
    "### STORY (ORAL READING)"
   ]
  },
  {
   "cell_type": "code",
   "execution_count": null,
   "metadata": {},
   "outputs": [],
   "source": []
  },
  {
   "cell_type": "code",
   "execution_count": null,
   "metadata": {},
   "outputs": [],
   "source": []
  }
 ],
 "metadata": {
  "kernelspec": {
   "display_name": "goteam",
   "language": "python",
   "name": "python3"
  },
  "language_info": {
   "codemirror_mode": {
    "name": "ipython",
    "version": 3
   },
   "file_extension": ".py",
   "mimetype": "text/x-python",
   "name": "python",
   "nbconvert_exporter": "python",
   "pygments_lexer": "ipython3",
   "version": "3.9.19"
  }
 },
 "nbformat": 4,
 "nbformat_minor": 2
}
