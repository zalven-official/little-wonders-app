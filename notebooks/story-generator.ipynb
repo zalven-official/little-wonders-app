{
 "cells": [
  {
   "cell_type": "markdown",
   "metadata": {},
   "source": [
    "# Phil-IRI\n",
    "Prompt Engineering for Generating Stories and Questionnaires based on Phil Iri\n",
    "### The Philippine Informal Reading Inventory Assessment Tool \n",
    "- it is aimed to be used as a classroom-based assessment tool to measure and describe students' reading performance.\n",
    "\n",
    "Parameters\n",
    "- **Grade Level** (1, 2, 3, 4, 5, 6)\n",
    "- **Test Type** (Pre test, Post test, Story)\n",
    "- **Reading Mode** (Oral reading, Silent Reading)"
   ]
  },
  {
   "cell_type": "markdown",
   "metadata": {},
   "source": [
    "### PRE TEST (SILENT READING)"
   ]
  },
  {
   "cell_type": "code",
   "execution_count": 2,
   "metadata": {},
   "outputs": [],
   "source": [
    "grade_level = 4\n",
    "test_type = \"PRE TEST\"\n",
    "reading_mode = \"SILENT READING\"\n",
    "\n",
    "# Generate Story\n",
    "\n",
    "# Generate Questionnaire\n",
    "\n",
    "# Generate Poster Image\n"
   ]
  },
  {
   "cell_type": "markdown",
   "metadata": {},
   "source": [
    "### PRE TEST (ORAL READING)"
   ]
  },
  {
   "cell_type": "code",
   "execution_count": 3,
   "metadata": {},
   "outputs": [],
   "source": [
    "grade_level = 5\n",
    "test_type = \"PRE TEST\"\n",
    "reading_mode = \"ORAL READING\"\n",
    "\n",
    "\n",
    "# Generate Story\n",
    "\n",
    "# Generate Questionnaire\n",
    "\n",
    "# Generate Poster Image\n"
   ]
  },
  {
   "cell_type": "markdown",
   "metadata": {},
   "source": [
    "### POST TEST (SILENT READING)"
   ]
  },
  {
   "cell_type": "code",
   "execution_count": 8,
   "metadata": {},
   "outputs": [],
   "source": [
    "grade_level = 5\n",
    "test_type = \"POST TEST\"\n",
    "reading_mode = \"SILENT READING\"\n",
    "\n",
    "\n",
    "# Generate Story\n",
    "\n",
    "# Generate Questionnaire\n",
    "\n",
    "# Generate Poster Image\n"
   ]
  },
  {
   "cell_type": "markdown",
   "metadata": {},
   "source": [
    "### POST TEST (ORAL READING)"
   ]
  },
  {
   "cell_type": "code",
   "execution_count": 12,
   "metadata": {},
   "outputs": [],
   "source": [
    "grade_level = 4\n",
    "test_type = \"POST TEST\"\n",
    "reading_mode = \"ORAL READING\"\n",
    "\n",
    "\n",
    "# Generate Story\n",
    "\n",
    "# Generate Questionnaire\n",
    "\n",
    "# Generate Poster Image"
   ]
  },
  {
   "cell_type": "markdown",
   "metadata": {},
   "source": [
    "### STORY (SILENT READING)"
   ]
  },
  {
   "cell_type": "code",
   "execution_count": 10,
   "metadata": {},
   "outputs": [],
   "source": [
    "grade_level = 4\n",
    "test_type = \"STORY\"\n",
    "reading_mode = \"SILENT READING\"\n",
    "\n",
    "\n",
    "# Generate Story\n",
    "\n",
    "# Generate Questionnaire\n",
    "\n",
    "# Generate Poster Image"
   ]
  },
  {
   "cell_type": "markdown",
   "metadata": {},
   "source": [
    "### STORY (ORAL READING)"
   ]
  },
  {
   "cell_type": "code",
   "execution_count": 13,
   "metadata": {},
   "outputs": [],
   "source": [
    "grade_level = 6\n",
    "test_type = \"STORY\"\n",
    "reading_mode = \"ORAL READING\"\n",
    "\n",
    "\n",
    "# Generate Story\n",
    "\n",
    "# Generate Questionnaire\n",
    "\n",
    "# Generate Poster Image\n"
   ]
  },
  {
   "cell_type": "code",
   "execution_count": null,
   "metadata": {},
   "outputs": [],
   "source": []
  }
 ],
 "metadata": {
  "kernelspec": {
   "display_name": "goteam",
   "language": "python",
   "name": "python3"
  },
  "language_info": {
   "codemirror_mode": {
    "name": "ipython",
    "version": 3
   },
   "file_extension": ".py",
   "mimetype": "text/x-python",
   "name": "python",
   "nbconvert_exporter": "python",
   "pygments_lexer": "ipython3",
   "version": "3.9.19"
  }
 },
 "nbformat": 4,
 "nbformat_minor": 2
}
